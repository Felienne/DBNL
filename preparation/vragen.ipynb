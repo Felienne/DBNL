{
 "cells": [
  {
   "cell_type": "code",
   "execution_count": 1,
   "id": "8572363a",
   "metadata": {},
   "outputs": [],
   "source": [
    "import json\n",
    "from collections import defaultdict"
   ]
  },
  {
   "cell_type": "code",
   "execution_count": 2,
   "id": "7b6bdc49",
   "metadata": {},
   "outputs": [],
   "source": [
    "def laad_json(filename):\n",
    "    with open(filename) as f:\n",
    "        data = json.load(f)\n",
    "    return data\n",
    "\n",
    "\n",
    "def indexeer_vragen():\n",
    "    data = laad_json(\"./resources/selected_sentences.json\")\n",
    "    vragen = defaultdict(list)\n",
    "    for book, sents in data.items():\n",
    "        for sent in sents:\n",
    "            # Extra voorwaarde:\n",
    "            if sent[0].isupper():\n",
    "                vragen[sent].append(book[:-3])\n",
    "    return vragen"
   ]
  },
  {
   "cell_type": "code",
   "execution_count": 3,
   "id": "89055c1d",
   "metadata": {},
   "outputs": [],
   "source": [
    "index = indexeer_vragen()\n",
    "\n",
    "korte_vragen = index.copy()\n",
    "for key in index:\n",
    "    if len(key.split()) > 20:\n",
    "        del korte_vragen[key]"
   ]
  },
  {
   "cell_type": "code",
   "execution_count": 4,
   "id": "5b0db0d7",
   "metadata": {},
   "outputs": [],
   "source": [
    "with open(\"./resources/less_than_20.json\",'w') as f:\n",
    "    json.dump(korte_vragen, f, indent=4)\n",
    "    \n",
    "with open(\"./resources/less_than_20_minified.json\", 'w') as f:\n",
    "    json.dump(korte_vragen, f, separators=(',', ':'))"
   ]
  },
  {
   "cell_type": "code",
   "execution_count": 5,
   "id": "263dd4d7",
   "metadata": {},
   "outputs": [
    {
     "name": "stdout",
     "output_type": "stream",
     "text": [
      "671 gebruikte boeken\n",
      "5129 items bespaard\n"
     ]
    }
   ],
   "source": [
    "# Selecteer gebruikte ids.\n",
    "used_ids = set.union(*[set(l) for l in index.values()])\n",
    "\n",
    "# Laad DBNL-metadata.\n",
    "dbnl = laad_json(\"./resources/dbnl.json\")\n",
    "\n",
    "# Maak dictionary\n",
    "dbnl_index = {entry['id']: entry for entry in dbnl if entry['id'] in used_ids}\n",
    "\n",
    "print(len(dbnl_index), \"gebruikte boeken\")\n",
    "print(len(dbnl)-len(dbnl_index), \"items bespaard\")"
   ]
  },
  {
   "cell_type": "code",
   "execution_count": 6,
   "id": "ddc8df5c",
   "metadata": {},
   "outputs": [],
   "source": [
    "data = dict(vragen=korte_vragen, \n",
    "            metadata=dbnl_index)\n",
    "\n",
    "with open(\"./resources/site_data.json\", 'w') as f:\n",
    "    json.dump(data, f, separators=(',', ':'))"
   ]
  }
 ],
 "metadata": {
  "kernelspec": {
   "display_name": "Python 3 (ipykernel)",
   "language": "python",
   "name": "python3"
  },
  "language_info": {
   "codemirror_mode": {
    "name": "ipython",
    "version": 3
   },
   "file_extension": ".py",
   "mimetype": "text/x-python",
   "name": "python",
   "nbconvert_exporter": "python",
   "pygments_lexer": "ipython3",
   "version": "3.9.12"
  }
 },
 "nbformat": 4,
 "nbformat_minor": 5
}
